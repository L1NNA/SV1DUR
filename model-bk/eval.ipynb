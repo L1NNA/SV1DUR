{
 "cells": [
  {
   "cell_type": "code",
   "execution_count": 2,
   "id": "38e9601f-f4bb-452c-a2f3-c425dbe06f16",
   "metadata": {},
   "outputs": [],
   "source": [
    "import os\n",
    "os.environ[\"CUDA_DEVICE_ORDER\"] = \"PCI_BUS_ID\"\n",
    "os.environ[\"CUDA_VISIBLE_DEVICES\"] = \"0\"\n",
    "os.environ[\"TF_FORCE_GPU_ALLOW_GROWTH\"] = \"true\""
   ]
  },
  {
   "cell_type": "code",
   "execution_count": 3,
   "id": "6c84c391-ab87-4930-9e44-103b7861696b",
   "metadata": {},
   "outputs": [],
   "source": [
    "from data import get_datasets\n",
    "from rnns import skipGRU, skipLSTM, GRU, LSTM, eval_rnn\n",
    "\n",
    "from importlib import reload\n",
    "\n",
    "from sklearn.model_selection import train_test_split\n",
    "import pandas as pd\n",
    "import pandas as pd\n",
    "import numpy as np\n",
    "import re\n",
    "from tqdm import tqdm, trange\n",
    "import math\n",
    "from sklearn.model_selection import train_test_split\n",
    "from tensorflow.python.keras.preprocessing.sequence import pad_sequences\n",
    "import plotly.figure_factory as ff\n",
    "from sklearn.metrics import confusion_matrix, roc_curve, auc\n",
    "import csv\n",
    "import plotly.express as px\n",
    "import pickle\n",
    "import tensorflow as tf\n",
    "from tensorflow.keras import layers\n",
    "from sklearn.metrics import classification_report\n",
    "from sklearn.metrics import roc_auc_score\n",
    "import random\n",
    "import timeit"
   ]
  },
  {
   "cell_type": "code",
   "execution_count": 4,
   "id": "30289ed4-4a5a-4388-a6c1-97f4e46c9a8e",
   "metadata": {},
   "outputs": [
    {
     "name": "stdout",
     "output_type": "stream",
     "text": [
      "['Flight Data YOW YUL Manual Flight_6', 327606137, 37641, 0, 0]\n"
     ]
    }
   ],
   "source": [
    "datasets = get_datasets('data')\n",
    "dataset_yow_yul = datasets['yow-yul']\n",
    "print(dataset_yow_yul[0]) # (session, time, word, parity_error, attack)"
   ]
  },
  {
   "cell_type": "code",
   "execution_count": 5,
   "id": "1bb8e81b-9f6a-4044-b6d1-218a9925423a",
   "metadata": {},
   "outputs": [],
   "source": [
    "# subsample benign:\n",
    "dataset_yow_yul_sampled = [r for r in dataset_yow_yul if r[-1] > 0 or random.uniform(0, 1) > .95]"
   ]
  },
  {
   "cell_type": "code",
   "execution_count": 6,
   "id": "37652945-fde2-42de-9bb6-12f765f8cf7a",
   "metadata": {},
   "outputs": [
    {
     "data": {
      "text/plain": [
       "0     751716\n",
       "1       5879\n",
       "2       4214\n",
       "9       3271\n",
       "8       1243\n",
       "10      1142\n",
       "7        916\n",
       "4        629\n",
       "3        482\n",
       "6        333\n",
       "5          1\n",
       "Name: attack, dtype: int64"
      ]
     },
     "execution_count": 6,
     "metadata": {},
     "output_type": "execute_result"
    }
   ],
   "source": [
    "# converted to dataframe for visualization/statistics\n",
    "df_yow_yul = pd.DataFrame(dataset_yow_yul_sampled, columns =['session', 'time', 'word', 'parity_error', 'attack'])\n",
    "df_yow_yul.attack.value_counts()"
   ]
  },
  {
   "cell_type": "code",
   "execution_count": 7,
   "id": "853ddc5e-c6c8-4e69-82d0-722ee73c1447",
   "metadata": {},
   "outputs": [],
   "source": [
    "# stratefy split based on session\n",
    "train, test = train_test_split(\n",
    "    dataset_yow_yul_sampled, \n",
    "    test_size=.4, \n",
    "    shuffle=True, \n",
    "    random_state=1,\n",
    "    stratify=[row[0] for row in dataset_yow_yul_sampled]\n",
    ")"
   ]
  },
  {
   "cell_type": "code",
   "execution_count": 16,
   "id": "4143152b-ec1e-4f78-8cea-af16db57ee1f",
   "metadata": {},
   "outputs": [],
   "source": [
    "results = {}"
   ]
  },
  {
   "cell_type": "code",
   "execution_count": null,
   "id": "51a53db2-827c-4ecc-b76a-c37152a66477",
   "metadata": {},
   "outputs": [],
   "source": [
    "\n",
    "\n",
    "for model in [skipGRU, skipLSTM, GRU, LSTM]:\n",
    "    _, prediction = eval_rnn(train, [test], rnn_layer=model)\n",
    "    results[model.__name__] = prediction"
   ]
  },
  {
   "cell_type": "code",
   "execution_count": null,
   "id": "e7103d1f-3fce-4942-b8fa-afda406f6c4b",
   "metadata": {
    "tags": []
   },
   "outputs": [],
   "source": [
    "results['skipGRU'][0][1]\n"
   ]
  },
  {
   "cell_type": "code",
   "execution_count": 30,
   "id": "fc8ee126-b62f-4316-93a4-796453b3db08",
   "metadata": {},
   "outputs": [],
   "source": [
    "from sklearn.metrics import (accuracy_score, auc, precision_score,\n",
    "                             recall_score, roc_auc_score, roc_curve)"
   ]
  },
  {
   "cell_type": "code",
   "execution_count": 31,
   "id": "6c1af4ef-9067-43c7-9031-2e33f5b659ac",
   "metadata": {},
   "outputs": [],
   "source": [
    "def eval(prediction):\n",
    "    (y_anomly_truth, y_attack_truth), anomly_predictions, time_taken = prediction\n",
    "    anomly_predictions = np.array(anomly_predictions).flatten()\n",
    "    _all = {}\n",
    "    for i in range(0, 11):\n",
    "        # get metric for each attack\n",
    "        truth = []\n",
    "        predictions = []\n",
    "        for t, a, p in zip(y_anomly_truth, y_attack_truth, anomly_predictions):\n",
    "            if i == 0 or a == i or a == 0:\n",
    "                # all attacks or a specific attack\n",
    "                truth.append(t)\n",
    "                predictions.append(p)\n",
    "        \n",
    "        fpr, tpr, thresholds = roc_curve(truth, predictions)\n",
    "        roc_auc = auc(fpr, tpr)\n",
    "\n",
    "        # find optimal threshold\n",
    "        optimal_idx = np.argmax(tpr - fpr)\n",
    "        optimal_threshold = thresholds[optimal_idx]\n",
    "        pred_labels = predictions >= optimal_threshold\n",
    "\n",
    "        res = {\n",
    "            'auc': roc_auc,\n",
    "            'acc': accuracy_score(truth, pred_labels),\n",
    "            'prc': precision_score(truth, pred_labels),\n",
    "            'rcl': recall_score(truth, pred_labels),\n",
    "            'pav': np.mean([p for t, p in zip(truth, predictions) if t == 1]),\n",
    "            'pvr': np.var([p for t, p in zip(truth, predictions) if t == 1]),\n",
    "            'nav': np.mean([p for t, p in zip(truth, predictions) if t == 0]),\n",
    "            'nvr': np.var([p for t, p in zip(truth, predictions) if t == 0]),\n",
    "            'opt': optimal_threshold,\n",
    "            'time': time_taken\n",
    "        }\n",
    "        _all[i] = {k: f'{v:.4f}' for k, v in res.items()}\n",
    "    return _all\n",
    "\n"
   ]
  },
  {
   "cell_type": "code",
   "execution_count": null,
   "id": "31fceebd-4911-4087-b045-de08684f8f0e",
   "metadata": {},
   "outputs": [],
   "source": [
    "eval(results['skipGRU'][0])"
   ]
  },
  {
   "cell_type": "code",
   "execution_count": null,
   "id": "072eebc3-0211-47a3-8ec5-7acbb7eb2653",
   "metadata": {},
   "outputs": [],
   "source": [
    "import stan\n",
    "reload(stan)\n",
    "from stan import eval_stan\n",
    "\n",
    "results['stan'] = eval_stan(train, [test])"
   ]
  },
  {
   "cell_type": "code",
   "execution_count": null,
   "id": "060b78e2-d018-4c34-b6fa-0eb4f6fe7af1",
   "metadata": {
    "tags": []
   },
   "outputs": [],
   "source": [
    "eval(results['stan'][0])"
   ]
  },
  {
   "cell_type": "code",
   "execution_count": null,
   "id": "8b732504-21b8-4a52-9519-a60a09dbe0e8",
   "metadata": {},
   "outputs": [],
   "source": [
    "import onodueze\n",
    "reload(onodueze)\n",
    "from onodueze import eval_onodueze\n",
    "\n",
    "for model in ['BLSTM', 'IsolationForest', 'LOF', 'MCD', 'XGBoost']:\n",
    "    if model not in results:\n",
    "        _, prediction = eval_onodueze(train, [test], model=model)\n",
    "        results[model] = prediction"
   ]
  },
  {
   "cell_type": "code",
   "execution_count": null,
   "id": "23f40752-0afa-463c-ae97-9e980b98dc82",
   "metadata": {},
   "outputs": [],
   "source": [
    "results.keys()"
   ]
  },
  {
   "cell_type": "code",
   "execution_count": 23,
   "id": "c36da6b6-d53b-4a79-854b-cdfca32dd178",
   "metadata": {},
   "outputs": [
    {
     "name": "stdout",
     "output_type": "stream",
     "text": [
      "preparing data\n",
      "all data [Data(x=[20, 1], edge_index=[2, 4], y=[1], ya=[1]), Data(x=[20, 1], edge_index=[2, 4], y=[1], ya=[1])] 461847\n"
     ]
    },
    {
     "name": "stderr",
     "output_type": "stream",
     "text": [
      "  0%|          | 0/3609 [00:00<?, ?it/s]\n"
     ]
    },
    {
     "name": "stdout",
     "output_type": "stream",
     "text": [
      "Epoch: 001, Train Loss: 0.0007113, \n"
     ]
    },
    {
     "name": "stderr",
     "output_type": "stream",
     "text": [
      "  0%|          | 0/3609 [00:00<?, ?it/s]\n"
     ]
    },
    {
     "name": "stdout",
     "output_type": "stream",
     "text": [
      "Epoch: 002, Train Loss: 0.0006972, \n"
     ]
    },
    {
     "name": "stderr",
     "output_type": "stream",
     "text": [
      "  0%|          | 0/3609 [00:00<?, ?it/s]\n"
     ]
    },
    {
     "name": "stdout",
     "output_type": "stream",
     "text": [
      "Epoch: 003, Train Loss: 0.0006852, \n"
     ]
    },
    {
     "name": "stderr",
     "output_type": "stream",
     "text": [
      "  0%|          | 0/3609 [00:00<?, ?it/s]\n"
     ]
    },
    {
     "name": "stdout",
     "output_type": "stream",
     "text": [
      "Epoch: 004, Train Loss: 0.0006696, \n"
     ]
    },
    {
     "name": "stderr",
     "output_type": "stream",
     "text": [
      "  0%|          | 0/3609 [00:00<?, ?it/s]\n"
     ]
    },
    {
     "name": "stdout",
     "output_type": "stream",
     "text": [
      "Epoch: 005, Train Loss: 0.0006578, \n"
     ]
    },
    {
     "name": "stderr",
     "output_type": "stream",
     "text": [
      "  0%|          | 0/3609 [00:00<?, ?it/s]\n"
     ]
    },
    {
     "name": "stdout",
     "output_type": "stream",
     "text": [
      "Epoch: 006, Train Loss: 0.0006423, \n"
     ]
    },
    {
     "name": "stderr",
     "output_type": "stream",
     "text": [
      "  0%|          | 0/3609 [00:00<?, ?it/s]\n"
     ]
    },
    {
     "name": "stdout",
     "output_type": "stream",
     "text": [
      "Epoch: 007, Train Loss: 0.0006278, \n"
     ]
    },
    {
     "name": "stderr",
     "output_type": "stream",
     "text": [
      "  0%|          | 0/3609 [00:00<?, ?it/s]\n"
     ]
    },
    {
     "name": "stdout",
     "output_type": "stream",
     "text": [
      "Epoch: 008, Train Loss: 0.0006112, \n"
     ]
    },
    {
     "name": "stderr",
     "output_type": "stream",
     "text": [
      "  0%|          | 0/3609 [00:00<?, ?it/s]\n"
     ]
    },
    {
     "name": "stdout",
     "output_type": "stream",
     "text": [
      "Epoch: 009, Train Loss: 0.0005825, \n"
     ]
    },
    {
     "name": "stderr",
     "output_type": "stream",
     "text": [
      "  0%|          | 0/3609 [00:00<?, ?it/s]\n"
     ]
    },
    {
     "name": "stdout",
     "output_type": "stream",
     "text": [
      "Epoch: 010, Train Loss: 0.0005495, \n",
      "start testing\n"
     ]
    },
    {
     "name": "stderr",
     "output_type": "stream",
     "text": [
      "  0%|          | 0/2406 [00:00<?, ?it/s]\n"
     ]
    }
   ],
   "source": [
    "from ignn_g import ids\n",
    "reload(ids)\n",
    "results['impl'] = ids.eval_imp(train, [test])[1]"
   ]
  },
  {
   "cell_type": "code",
   "execution_count": 32,
   "id": "c6fd9648-ac6d-46f4-8760-02a4dc6286d9",
   "metadata": {},
   "outputs": [
    {
     "name": "stderr",
     "output_type": "stream",
     "text": [
      "/opt/conda/lib/python3.9/site-packages/sklearn/metrics/_ranking.py:999: UndefinedMetricWarning: No positive samples in y_true, true positive value should be meaningless\n",
      "  warnings.warn(\n",
      "/opt/conda/lib/python3.9/site-packages/sklearn/metrics/_classification.py:1318: UndefinedMetricWarning: Precision is ill-defined and being set to 0.0 due to no predicted samples. Use `zero_division` parameter to control this behavior.\n",
      "  _warn_prf(average, modifier, msg_start, len(result))\n",
      "/opt/conda/lib/python3.9/site-packages/sklearn/metrics/_classification.py:1318: UndefinedMetricWarning: Recall is ill-defined and being set to 0.0 due to no true samples. Use `zero_division` parameter to control this behavior.\n",
      "  _warn_prf(average, modifier, msg_start, len(result))\n",
      "/opt/conda/lib/python3.9/site-packages/numpy/core/fromnumeric.py:3372: RuntimeWarning: Mean of empty slice.\n",
      "  return _methods._mean(a, axis=axis, dtype=dtype,\n",
      "/opt/conda/lib/python3.9/site-packages/numpy/core/_methods.py:170: RuntimeWarning: invalid value encountered in double_scalars\n",
      "  ret = ret.dtype.type(ret / rcount)\n",
      "/opt/conda/lib/python3.9/site-packages/numpy/core/fromnumeric.py:3621: RuntimeWarning: Degrees of freedom <= 0 for slice\n",
      "  return _methods._var(a, axis=axis, dtype=dtype, out=out, ddof=ddof,\n",
      "/opt/conda/lib/python3.9/site-packages/numpy/core/_methods.py:194: RuntimeWarning: invalid value encountered in true_divide\n",
      "  arrmean = um.true_divide(\n",
      "/opt/conda/lib/python3.9/site-packages/numpy/core/_methods.py:226: RuntimeWarning: invalid value encountered in double_scalars\n",
      "  ret = ret.dtype.type(ret / rcount)\n",
      "/opt/conda/lib/python3.9/site-packages/sklearn/metrics/_ranking.py:999: UndefinedMetricWarning: No positive samples in y_true, true positive value should be meaningless\n",
      "  warnings.warn(\n",
      "/opt/conda/lib/python3.9/site-packages/sklearn/metrics/_classification.py:1318: UndefinedMetricWarning: Precision is ill-defined and being set to 0.0 due to no predicted samples. Use `zero_division` parameter to control this behavior.\n",
      "  _warn_prf(average, modifier, msg_start, len(result))\n",
      "/opt/conda/lib/python3.9/site-packages/sklearn/metrics/_classification.py:1318: UndefinedMetricWarning: Recall is ill-defined and being set to 0.0 due to no true samples. Use `zero_division` parameter to control this behavior.\n",
      "  _warn_prf(average, modifier, msg_start, len(result))\n",
      "/opt/conda/lib/python3.9/site-packages/numpy/core/fromnumeric.py:3372: RuntimeWarning: Mean of empty slice.\n",
      "  return _methods._mean(a, axis=axis, dtype=dtype,\n",
      "/opt/conda/lib/python3.9/site-packages/numpy/core/_methods.py:170: RuntimeWarning: invalid value encountered in double_scalars\n",
      "  ret = ret.dtype.type(ret / rcount)\n",
      "/opt/conda/lib/python3.9/site-packages/numpy/core/fromnumeric.py:3621: RuntimeWarning: Degrees of freedom <= 0 for slice\n",
      "  return _methods._var(a, axis=axis, dtype=dtype, out=out, ddof=ddof,\n",
      "/opt/conda/lib/python3.9/site-packages/numpy/core/_methods.py:194: RuntimeWarning: invalid value encountered in true_divide\n",
      "  arrmean = um.true_divide(\n",
      "/opt/conda/lib/python3.9/site-packages/numpy/core/_methods.py:226: RuntimeWarning: invalid value encountered in double_scalars\n",
      "  ret = ret.dtype.type(ret / rcount)\n",
      "/opt/conda/lib/python3.9/site-packages/sklearn/metrics/_ranking.py:999: UndefinedMetricWarning: No positive samples in y_true, true positive value should be meaningless\n",
      "  warnings.warn(\n",
      "/opt/conda/lib/python3.9/site-packages/sklearn/metrics/_classification.py:1318: UndefinedMetricWarning: Precision is ill-defined and being set to 0.0 due to no predicted samples. Use `zero_division` parameter to control this behavior.\n",
      "  _warn_prf(average, modifier, msg_start, len(result))\n",
      "/opt/conda/lib/python3.9/site-packages/sklearn/metrics/_classification.py:1318: UndefinedMetricWarning: Recall is ill-defined and being set to 0.0 due to no true samples. Use `zero_division` parameter to control this behavior.\n",
      "  _warn_prf(average, modifier, msg_start, len(result))\n",
      "/opt/conda/lib/python3.9/site-packages/numpy/core/fromnumeric.py:3372: RuntimeWarning: Mean of empty slice.\n",
      "  return _methods._mean(a, axis=axis, dtype=dtype,\n",
      "/opt/conda/lib/python3.9/site-packages/numpy/core/_methods.py:170: RuntimeWarning: invalid value encountered in double_scalars\n",
      "  ret = ret.dtype.type(ret / rcount)\n",
      "/opt/conda/lib/python3.9/site-packages/numpy/core/fromnumeric.py:3621: RuntimeWarning: Degrees of freedom <= 0 for slice\n",
      "  return _methods._var(a, axis=axis, dtype=dtype, out=out, ddof=ddof,\n",
      "/opt/conda/lib/python3.9/site-packages/numpy/core/_methods.py:194: RuntimeWarning: invalid value encountered in true_divide\n",
      "  arrmean = um.true_divide(\n",
      "/opt/conda/lib/python3.9/site-packages/numpy/core/_methods.py:226: RuntimeWarning: invalid value encountered in double_scalars\n",
      "  ret = ret.dtype.type(ret / rcount)\n",
      "/opt/conda/lib/python3.9/site-packages/sklearn/metrics/_ranking.py:999: UndefinedMetricWarning: No positive samples in y_true, true positive value should be meaningless\n",
      "  warnings.warn(\n",
      "/opt/conda/lib/python3.9/site-packages/sklearn/metrics/_classification.py:1318: UndefinedMetricWarning: Precision is ill-defined and being set to 0.0 due to no predicted samples. Use `zero_division` parameter to control this behavior.\n",
      "  _warn_prf(average, modifier, msg_start, len(result))\n",
      "/opt/conda/lib/python3.9/site-packages/sklearn/metrics/_classification.py:1318: UndefinedMetricWarning: Recall is ill-defined and being set to 0.0 due to no true samples. Use `zero_division` parameter to control this behavior.\n",
      "  _warn_prf(average, modifier, msg_start, len(result))\n",
      "/opt/conda/lib/python3.9/site-packages/numpy/core/fromnumeric.py:3372: RuntimeWarning: Mean of empty slice.\n",
      "  return _methods._mean(a, axis=axis, dtype=dtype,\n",
      "/opt/conda/lib/python3.9/site-packages/numpy/core/_methods.py:170: RuntimeWarning: invalid value encountered in double_scalars\n",
      "  ret = ret.dtype.type(ret / rcount)\n",
      "/opt/conda/lib/python3.9/site-packages/numpy/core/fromnumeric.py:3621: RuntimeWarning: Degrees of freedom <= 0 for slice\n",
      "  return _methods._var(a, axis=axis, dtype=dtype, out=out, ddof=ddof,\n",
      "/opt/conda/lib/python3.9/site-packages/numpy/core/_methods.py:194: RuntimeWarning: invalid value encountered in true_divide\n",
      "  arrmean = um.true_divide(\n",
      "/opt/conda/lib/python3.9/site-packages/numpy/core/_methods.py:226: RuntimeWarning: invalid value encountered in double_scalars\n",
      "  ret = ret.dtype.type(ret / rcount)\n",
      "/opt/conda/lib/python3.9/site-packages/sklearn/metrics/_ranking.py:999: UndefinedMetricWarning: No positive samples in y_true, true positive value should be meaningless\n",
      "  warnings.warn(\n",
      "/opt/conda/lib/python3.9/site-packages/sklearn/metrics/_classification.py:1318: UndefinedMetricWarning: Precision is ill-defined and being set to 0.0 due to no predicted samples. Use `zero_division` parameter to control this behavior.\n",
      "  _warn_prf(average, modifier, msg_start, len(result))\n",
      "/opt/conda/lib/python3.9/site-packages/sklearn/metrics/_classification.py:1318: UndefinedMetricWarning: Recall is ill-defined and being set to 0.0 due to no true samples. Use `zero_division` parameter to control this behavior.\n",
      "  _warn_prf(average, modifier, msg_start, len(result))\n",
      "/opt/conda/lib/python3.9/site-packages/numpy/core/fromnumeric.py:3372: RuntimeWarning: Mean of empty slice.\n",
      "  return _methods._mean(a, axis=axis, dtype=dtype,\n",
      "/opt/conda/lib/python3.9/site-packages/numpy/core/_methods.py:170: RuntimeWarning: invalid value encountered in double_scalars\n",
      "  ret = ret.dtype.type(ret / rcount)\n",
      "/opt/conda/lib/python3.9/site-packages/numpy/core/fromnumeric.py:3621: RuntimeWarning: Degrees of freedom <= 0 for slice\n",
      "  return _methods._var(a, axis=axis, dtype=dtype, out=out, ddof=ddof,\n",
      "/opt/conda/lib/python3.9/site-packages/numpy/core/_methods.py:194: RuntimeWarning: invalid value encountered in true_divide\n",
      "  arrmean = um.true_divide(\n",
      "/opt/conda/lib/python3.9/site-packages/numpy/core/_methods.py:226: RuntimeWarning: invalid value encountered in double_scalars\n",
      "  ret = ret.dtype.type(ret / rcount)\n",
      "/opt/conda/lib/python3.9/site-packages/sklearn/metrics/_ranking.py:999: UndefinedMetricWarning: No positive samples in y_true, true positive value should be meaningless\n",
      "  warnings.warn(\n",
      "/opt/conda/lib/python3.9/site-packages/sklearn/metrics/_classification.py:1318: UndefinedMetricWarning: Precision is ill-defined and being set to 0.0 due to no predicted samples. Use `zero_division` parameter to control this behavior.\n",
      "  _warn_prf(average, modifier, msg_start, len(result))\n",
      "/opt/conda/lib/python3.9/site-packages/sklearn/metrics/_classification.py:1318: UndefinedMetricWarning: Recall is ill-defined and being set to 0.0 due to no true samples. Use `zero_division` parameter to control this behavior.\n",
      "  _warn_prf(average, modifier, msg_start, len(result))\n",
      "/opt/conda/lib/python3.9/site-packages/numpy/core/fromnumeric.py:3372: RuntimeWarning: Mean of empty slice.\n",
      "  return _methods._mean(a, axis=axis, dtype=dtype,\n",
      "/opt/conda/lib/python3.9/site-packages/numpy/core/_methods.py:170: RuntimeWarning: invalid value encountered in double_scalars\n",
      "  ret = ret.dtype.type(ret / rcount)\n",
      "/opt/conda/lib/python3.9/site-packages/numpy/core/fromnumeric.py:3621: RuntimeWarning: Degrees of freedom <= 0 for slice\n",
      "  return _methods._var(a, axis=axis, dtype=dtype, out=out, ddof=ddof,\n",
      "/opt/conda/lib/python3.9/site-packages/numpy/core/_methods.py:194: RuntimeWarning: invalid value encountered in true_divide\n",
      "  arrmean = um.true_divide(\n",
      "/opt/conda/lib/python3.9/site-packages/numpy/core/_methods.py:226: RuntimeWarning: invalid value encountered in double_scalars\n",
      "  ret = ret.dtype.type(ret / rcount)\n",
      "/opt/conda/lib/python3.9/site-packages/sklearn/metrics/_ranking.py:999: UndefinedMetricWarning: No positive samples in y_true, true positive value should be meaningless\n",
      "  warnings.warn(\n",
      "/opt/conda/lib/python3.9/site-packages/sklearn/metrics/_classification.py:1318: UndefinedMetricWarning: Precision is ill-defined and being set to 0.0 due to no predicted samples. Use `zero_division` parameter to control this behavior.\n",
      "  _warn_prf(average, modifier, msg_start, len(result))\n",
      "/opt/conda/lib/python3.9/site-packages/sklearn/metrics/_classification.py:1318: UndefinedMetricWarning: Recall is ill-defined and being set to 0.0 due to no true samples. Use `zero_division` parameter to control this behavior.\n",
      "  _warn_prf(average, modifier, msg_start, len(result))\n",
      "/opt/conda/lib/python3.9/site-packages/numpy/core/fromnumeric.py:3372: RuntimeWarning: Mean of empty slice.\n",
      "  return _methods._mean(a, axis=axis, dtype=dtype,\n",
      "/opt/conda/lib/python3.9/site-packages/numpy/core/_methods.py:170: RuntimeWarning: invalid value encountered in double_scalars\n",
      "  ret = ret.dtype.type(ret / rcount)\n",
      "/opt/conda/lib/python3.9/site-packages/numpy/core/fromnumeric.py:3621: RuntimeWarning: Degrees of freedom <= 0 for slice\n",
      "  return _methods._var(a, axis=axis, dtype=dtype, out=out, ddof=ddof,\n",
      "/opt/conda/lib/python3.9/site-packages/numpy/core/_methods.py:194: RuntimeWarning: invalid value encountered in true_divide\n",
      "  arrmean = um.true_divide(\n",
      "/opt/conda/lib/python3.9/site-packages/numpy/core/_methods.py:226: RuntimeWarning: invalid value encountered in double_scalars\n",
      "  ret = ret.dtype.type(ret / rcount)\n",
      "/opt/conda/lib/python3.9/site-packages/sklearn/metrics/_ranking.py:999: UndefinedMetricWarning: No positive samples in y_true, true positive value should be meaningless\n",
      "  warnings.warn(\n",
      "/opt/conda/lib/python3.9/site-packages/sklearn/metrics/_classification.py:1318: UndefinedMetricWarning: Precision is ill-defined and being set to 0.0 due to no predicted samples. Use `zero_division` parameter to control this behavior.\n",
      "  _warn_prf(average, modifier, msg_start, len(result))\n",
      "/opt/conda/lib/python3.9/site-packages/sklearn/metrics/_classification.py:1318: UndefinedMetricWarning: Recall is ill-defined and being set to 0.0 due to no true samples. Use `zero_division` parameter to control this behavior.\n",
      "  _warn_prf(average, modifier, msg_start, len(result))\n",
      "/opt/conda/lib/python3.9/site-packages/numpy/core/fromnumeric.py:3372: RuntimeWarning: Mean of empty slice.\n",
      "  return _methods._mean(a, axis=axis, dtype=dtype,\n",
      "/opt/conda/lib/python3.9/site-packages/numpy/core/_methods.py:170: RuntimeWarning: invalid value encountered in double_scalars\n",
      "  ret = ret.dtype.type(ret / rcount)\n",
      "/opt/conda/lib/python3.9/site-packages/numpy/core/fromnumeric.py:3621: RuntimeWarning: Degrees of freedom <= 0 for slice\n",
      "  return _methods._var(a, axis=axis, dtype=dtype, out=out, ddof=ddof,\n",
      "/opt/conda/lib/python3.9/site-packages/numpy/core/_methods.py:194: RuntimeWarning: invalid value encountered in true_divide\n",
      "  arrmean = um.true_divide(\n",
      "/opt/conda/lib/python3.9/site-packages/numpy/core/_methods.py:226: RuntimeWarning: invalid value encountered in double_scalars\n",
      "  ret = ret.dtype.type(ret / rcount)\n",
      "/opt/conda/lib/python3.9/site-packages/sklearn/metrics/_ranking.py:999: UndefinedMetricWarning: No positive samples in y_true, true positive value should be meaningless\n",
      "  warnings.warn(\n",
      "/opt/conda/lib/python3.9/site-packages/sklearn/metrics/_classification.py:1318: UndefinedMetricWarning: Precision is ill-defined and being set to 0.0 due to no predicted samples. Use `zero_division` parameter to control this behavior.\n",
      "  _warn_prf(average, modifier, msg_start, len(result))\n",
      "/opt/conda/lib/python3.9/site-packages/sklearn/metrics/_classification.py:1318: UndefinedMetricWarning: Recall is ill-defined and being set to 0.0 due to no true samples. Use `zero_division` parameter to control this behavior.\n",
      "  _warn_prf(average, modifier, msg_start, len(result))\n",
      "/opt/conda/lib/python3.9/site-packages/numpy/core/fromnumeric.py:3372: RuntimeWarning: Mean of empty slice.\n",
      "  return _methods._mean(a, axis=axis, dtype=dtype,\n",
      "/opt/conda/lib/python3.9/site-packages/numpy/core/_methods.py:170: RuntimeWarning: invalid value encountered in double_scalars\n",
      "  ret = ret.dtype.type(ret / rcount)\n",
      "/opt/conda/lib/python3.9/site-packages/numpy/core/fromnumeric.py:3621: RuntimeWarning: Degrees of freedom <= 0 for slice\n",
      "  return _methods._var(a, axis=axis, dtype=dtype, out=out, ddof=ddof,\n",
      "/opt/conda/lib/python3.9/site-packages/numpy/core/_methods.py:194: RuntimeWarning: invalid value encountered in true_divide\n",
      "  arrmean = um.true_divide(\n",
      "/opt/conda/lib/python3.9/site-packages/numpy/core/_methods.py:226: RuntimeWarning: invalid value encountered in double_scalars\n",
      "  ret = ret.dtype.type(ret / rcount)\n",
      "/opt/conda/lib/python3.9/site-packages/sklearn/metrics/_ranking.py:999: UndefinedMetricWarning: No positive samples in y_true, true positive value should be meaningless\n",
      "  warnings.warn(\n",
      "/opt/conda/lib/python3.9/site-packages/sklearn/metrics/_classification.py:1318: UndefinedMetricWarning: Precision is ill-defined and being set to 0.0 due to no predicted samples. Use `zero_division` parameter to control this behavior.\n",
      "  _warn_prf(average, modifier, msg_start, len(result))\n",
      "/opt/conda/lib/python3.9/site-packages/sklearn/metrics/_classification.py:1318: UndefinedMetricWarning: Recall is ill-defined and being set to 0.0 due to no true samples. Use `zero_division` parameter to control this behavior.\n",
      "  _warn_prf(average, modifier, msg_start, len(result))\n",
      "/opt/conda/lib/python3.9/site-packages/numpy/core/fromnumeric.py:3372: RuntimeWarning: Mean of empty slice.\n",
      "  return _methods._mean(a, axis=axis, dtype=dtype,\n",
      "/opt/conda/lib/python3.9/site-packages/numpy/core/_methods.py:170: RuntimeWarning: invalid value encountered in double_scalars\n",
      "  ret = ret.dtype.type(ret / rcount)\n",
      "/opt/conda/lib/python3.9/site-packages/numpy/core/fromnumeric.py:3621: RuntimeWarning: Degrees of freedom <= 0 for slice\n",
      "  return _methods._var(a, axis=axis, dtype=dtype, out=out, ddof=ddof,\n",
      "/opt/conda/lib/python3.9/site-packages/numpy/core/_methods.py:194: RuntimeWarning: invalid value encountered in true_divide\n",
      "  arrmean = um.true_divide(\n",
      "/opt/conda/lib/python3.9/site-packages/numpy/core/_methods.py:226: RuntimeWarning: invalid value encountered in double_scalars\n",
      "  ret = ret.dtype.type(ret / rcount)\n",
      "/opt/conda/lib/python3.9/site-packages/sklearn/metrics/_ranking.py:999: UndefinedMetricWarning: No positive samples in y_true, true positive value should be meaningless\n",
      "  warnings.warn(\n",
      "/opt/conda/lib/python3.9/site-packages/sklearn/metrics/_classification.py:1318: UndefinedMetricWarning: Precision is ill-defined and being set to 0.0 due to no predicted samples. Use `zero_division` parameter to control this behavior.\n",
      "  _warn_prf(average, modifier, msg_start, len(result))\n",
      "/opt/conda/lib/python3.9/site-packages/sklearn/metrics/_classification.py:1318: UndefinedMetricWarning: Recall is ill-defined and being set to 0.0 due to no true samples. Use `zero_division` parameter to control this behavior.\n",
      "  _warn_prf(average, modifier, msg_start, len(result))\n",
      "/opt/conda/lib/python3.9/site-packages/numpy/core/fromnumeric.py:3372: RuntimeWarning: Mean of empty slice.\n",
      "  return _methods._mean(a, axis=axis, dtype=dtype,\n",
      "/opt/conda/lib/python3.9/site-packages/numpy/core/_methods.py:170: RuntimeWarning: invalid value encountered in double_scalars\n",
      "  ret = ret.dtype.type(ret / rcount)\n",
      "/opt/conda/lib/python3.9/site-packages/numpy/core/fromnumeric.py:3621: RuntimeWarning: Degrees of freedom <= 0 for slice\n",
      "  return _methods._var(a, axis=axis, dtype=dtype, out=out, ddof=ddof,\n",
      "/opt/conda/lib/python3.9/site-packages/numpy/core/_methods.py:194: RuntimeWarning: invalid value encountered in true_divide\n",
      "  arrmean = um.true_divide(\n",
      "/opt/conda/lib/python3.9/site-packages/numpy/core/_methods.py:226: RuntimeWarning: invalid value encountered in double_scalars\n",
      "  ret = ret.dtype.type(ret / rcount)\n"
     ]
    },
    {
     "data": {
      "text/plain": [
       "{0: {'auc': 'nan',\n",
       "  'acc': '1.0000',\n",
       "  'prc': '0.0000',\n",
       "  'rcl': '0.0000',\n",
       "  'pav': 'nan',\n",
       "  'pvr': 'nan',\n",
       "  'nav': '0.0908',\n",
       "  'nvr': '0.0006',\n",
       "  'opt': '1.1858',\n",
       "  'time': '52.3462'},\n",
       " 1: {'auc': 'nan',\n",
       "  'acc': '1.0000',\n",
       "  'prc': '0.0000',\n",
       "  'rcl': '0.0000',\n",
       "  'pav': 'nan',\n",
       "  'pvr': 'nan',\n",
       "  'nav': '0.0908',\n",
       "  'nvr': '0.0006',\n",
       "  'opt': '1.1858',\n",
       "  'time': '52.3462'},\n",
       " 2: {'auc': 'nan',\n",
       "  'acc': '1.0000',\n",
       "  'prc': '0.0000',\n",
       "  'rcl': '0.0000',\n",
       "  'pav': 'nan',\n",
       "  'pvr': 'nan',\n",
       "  'nav': '0.0908',\n",
       "  'nvr': '0.0006',\n",
       "  'opt': '1.1858',\n",
       "  'time': '52.3462'},\n",
       " 3: {'auc': 'nan',\n",
       "  'acc': '1.0000',\n",
       "  'prc': '0.0000',\n",
       "  'rcl': '0.0000',\n",
       "  'pav': 'nan',\n",
       "  'pvr': 'nan',\n",
       "  'nav': '0.0908',\n",
       "  'nvr': '0.0006',\n",
       "  'opt': '1.1858',\n",
       "  'time': '52.3462'},\n",
       " 4: {'auc': 'nan',\n",
       "  'acc': '1.0000',\n",
       "  'prc': '0.0000',\n",
       "  'rcl': '0.0000',\n",
       "  'pav': 'nan',\n",
       "  'pvr': 'nan',\n",
       "  'nav': '0.0908',\n",
       "  'nvr': '0.0006',\n",
       "  'opt': '1.1858',\n",
       "  'time': '52.3462'},\n",
       " 5: {'auc': 'nan',\n",
       "  'acc': '1.0000',\n",
       "  'prc': '0.0000',\n",
       "  'rcl': '0.0000',\n",
       "  'pav': 'nan',\n",
       "  'pvr': 'nan',\n",
       "  'nav': '0.0908',\n",
       "  'nvr': '0.0006',\n",
       "  'opt': '1.1858',\n",
       "  'time': '52.3462'},\n",
       " 6: {'auc': 'nan',\n",
       "  'acc': '1.0000',\n",
       "  'prc': '0.0000',\n",
       "  'rcl': '0.0000',\n",
       "  'pav': 'nan',\n",
       "  'pvr': 'nan',\n",
       "  'nav': '0.0908',\n",
       "  'nvr': '0.0006',\n",
       "  'opt': '1.1858',\n",
       "  'time': '52.3462'},\n",
       " 7: {'auc': 'nan',\n",
       "  'acc': '1.0000',\n",
       "  'prc': '0.0000',\n",
       "  'rcl': '0.0000',\n",
       "  'pav': 'nan',\n",
       "  'pvr': 'nan',\n",
       "  'nav': '0.0908',\n",
       "  'nvr': '0.0006',\n",
       "  'opt': '1.1858',\n",
       "  'time': '52.3462'},\n",
       " 8: {'auc': 'nan',\n",
       "  'acc': '1.0000',\n",
       "  'prc': '0.0000',\n",
       "  'rcl': '0.0000',\n",
       "  'pav': 'nan',\n",
       "  'pvr': 'nan',\n",
       "  'nav': '0.0908',\n",
       "  'nvr': '0.0006',\n",
       "  'opt': '1.1858',\n",
       "  'time': '52.3462'},\n",
       " 9: {'auc': 'nan',\n",
       "  'acc': '1.0000',\n",
       "  'prc': '0.0000',\n",
       "  'rcl': '0.0000',\n",
       "  'pav': 'nan',\n",
       "  'pvr': 'nan',\n",
       "  'nav': '0.0908',\n",
       "  'nvr': '0.0006',\n",
       "  'opt': '1.1858',\n",
       "  'time': '52.3462'},\n",
       " 10: {'auc': 'nan',\n",
       "  'acc': '1.0000',\n",
       "  'prc': '0.0000',\n",
       "  'rcl': '0.0000',\n",
       "  'pav': 'nan',\n",
       "  'pvr': 'nan',\n",
       "  'nav': '0.0908',\n",
       "  'nvr': '0.0006',\n",
       "  'opt': '1.1858',\n",
       "  'time': '52.3462'}}"
      ]
     },
     "execution_count": 32,
     "metadata": {},
     "output_type": "execute_result"
    }
   ],
   "source": [
    "eval(results['impl'][0])"
   ]
  },
  {
   "cell_type": "code",
   "execution_count": null,
   "id": "bb7551c4-b255-4788-878a-3d4a38c321ca",
   "metadata": {},
   "outputs": [],
   "source": []
  }
 ],
 "metadata": {
  "kernelspec": {
   "display_name": "Python [conda env:root] *",
   "language": "python",
   "name": "conda-root-py"
  },
  "language_info": {
   "codemirror_mode": {
    "name": "ipython",
    "version": 3
   },
   "file_extension": ".py",
   "mimetype": "text/x-python",
   "name": "python",
   "nbconvert_exporter": "python",
   "pygments_lexer": "ipython3",
   "version": "3.9.10"
  }
 },
 "nbformat": 4,
 "nbformat_minor": 5
}
